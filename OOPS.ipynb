{
  "nbformat": 4,
  "nbformat_minor": 0,
  "metadata": {
    "colab": {
      "provenance": []
    },
    "kernelspec": {
      "name": "python3",
      "display_name": "Python 3"
    },
    "language_info": {
      "name": "python"
    }
  },
  "cells": [
    {
      "cell_type": "markdown",
      "source": [
        "OOPS (THEORY QUESTIONS)\n",
        "\n",
        "1.What is Object-Oriented Programming (OOP)?\n",
        "\n",
        "ANS.(OOP) is a programming paradigm that revolves around the concept of objects, which can contain data (fields, attributes, or properties) and have actions they can perform (procedures or methods) implemented in code.\n",
        " In OOP, programs are designed by making them out of objects that interact with one another.\n",
        " The main aim of OOP is to bind together the data and the functions that operate on them so that no other part of the code can access this data except that function.\n",
        "\n",
        " 2.What is a class in OOP?\n",
        "\n",
        " ANS.In Object-Oriented Programming (OOP), a class is a blueprint or template for creating objects (instances). It defines the structure and behavior of objects of that class, including data fields and methods.\n",
        " A class acts as a blueprint for an entity in your application, defining its properties and behaviors, which can be instantiated multiple times to create objects with potentially unique attributes.\n",
        " For example, a class \"Car\" could define properties like color and methods like \"startEngine,\" and multiple Car objects could be created from this class, each with its own unique color.\n",
        "\n",
        " 3.What is an object in OOP?\n",
        "\n",
        " ANS.In object-oriented programming (OOP), an object is a fundamental component that represents a real-world entity and encapsulates data and behavior. Each object has its own unique identity and can be differentiated from all other objects.\n",
        " Objects are instances of a class, which defines the properties and methods that the object can use.\n",
        " For example, a person object might have properties like name and age, and methods that define actions the person can perform.\n",
        "\n",
        " 4.What is the difference between abstraction and encapsulation?\n",
        "\n",
        " ANS.Abstraction and encapsulation are both fundamental concepts in object-oriented programming, but they serve different purposes. Abstraction focuses on simplifying complexity by providing a simplified interface for the user, hiding the implementation details and showing only what is necessary.\n",
        " Encapsulation, on the other hand, focuses on protecting the data by bundling it with methods that control how the data is accessed and modified, thus hiding the internal data structures from direct access.\n",
        "\n",
        " 5.What are dunder methods in Python?\n",
        "\n",
        " ANS.Dunder methods, also known as magic methods or special methods, are predefined methods in Python that have double underscores (or “dunders”) at the beginning and end of their names. These methods are not called magically, but are invoked implicitly by the language at specific times depending on the method in question.\n",
        "\n",
        "Dunder methods are used for operator overloading, allowing instances of a class to interact with Python's built-in functions and operators. For example, when you add two numbers using the + operator, the add method is internally called.\n",
        "\n",
        "6.Explain the concept of inheritance in OOP.\n",
        "\n",
        "ANS.In Object-Oriented Programming (OOP), inheritance is a mechanism that allows a class to inherit properties and behaviors from another class, known as the superclass or base class. This inheritance facilitates a hierarchical relationship between classes, enabling the reuse of code and promoting a structured approach to building and extending classes.\n",
        "\n",
        "7.What is polymorphism in OOP?\n",
        "\n",
        "ANS.Polymorphism in Object-Oriented Programming (OOP) is the ability of an object to take on many forms. It allows methods to be written to work on multiple types of objects, and the specific behavior is determined at runtime based on the object's type. For example, a parent class reference can be used to refer to a child class object, enabling different behaviors to be executed depending on the object's actual type.\n",
        "\n",
        "8.How is encapsulation achieved in Python?\n",
        "\n",
        "ANS.Encapsulation in Python is achieved through the use of access modifiers and getter and setter methods. Variables and methods in Python can be made private, protected, or public to control their accessibility. Private variables and methods are declared by prefixing them with double underscores (__), making them less accessible from outside the class, although they are not strictly enforced by the interpreter.\n",
        "\n",
        "9.What is a constructor in Python?\n",
        "\n",
        "ANS.In Python, a constructor is a special method named __init__ that is called automatically when an object is created. It is used for initializing and assigning values to the data members of the class, enabling you to configure any starting states or values for the object.\n",
        "\n",
        "10.What are class and static methods in Python?\n",
        "\n",
        "ANS.In Python, class methods and static methods are both defined within a class but serve different purposes and have distinct characteristics.\n",
        "\n",
        "Class methods are bound to the class itself and are defined with the @classmethod decorator. They take the class itself as the first parameter, typically named cls, and can access and modify class-level data. Class methods are useful for tasks that involve the class rather than the instance, such as factory methods or class-level behaviors. For example, a class method can be used to create an instance of a class in a specific way, like creating an admin user from a factory method.\n",
        "\n",
        "Static methods, on the other hand, are not bound to the class or instance and are defined with the @staticmethod decorator. They do not receive an implicit first argument like self or cls and are used for utility functions or helper methods that do not depend on instance or class-specific data. Static methods are essentially regular functions within the class namespace and can be called without an instance of the class.\n",
        "\n",
        "11.What is method overloading in Python?\n",
        "\n",
        "ANS.Method overloading in Python refers to the ability to define multiple methods with the same name but different parameters in a class. However, Python does not directly support method overloading like some other languages such as Java or C++. Instead, developers can achieve similar functionality using default parameter values, variable-length argument lists (*args, **kwargs), or conditional logic within a single method\n",
        "\n",
        "12.What is method overriding in OOP?\n",
        "\n",
        "ANS.Overriding in Object-Oriented Programming (OOP) is a feature that allows a subclass to provide a specific implementation of a method that is already defined in its superclass. This enables the subclass to modify or extend the behavior of the inherited method, while still maintaining the same method signature (name, parameters, and return type) as the superclass method.\n",
        " This feature supports polymorphism, allowing different classes to provide different implementations of the same method, which can be invoked based on the actual object type at runtime.\n",
        "\n",
        " 13.What is a property decorator in Python?\n",
        "\n",
        " ANS.In Python, the @property decorator is a built-in decorator that allows you to define methods in a class that can be accessed like regular attributes, without the need to add parentheses to \"call\" the method.\n",
        " This decorator is particularly useful for creating read-only properties, making your code more readable and encapsulating attribute access.\n",
        " For example, you can define a method as a property and access it as an attribute, like c.radius instead of c.radius().\n",
        "\n",
        " 14.Why is polymorphism important in OOP?\n",
        "\n",
        " ANS.Polymorphism is important in OOP because it allows different objects to accept the same message and implement their own behavior, which is a central aspect of OOP.\n",
        " This concept enables the inversion of source code and runtime dependencies, making it easier to extend or change aspects of a program without requiring changes throughout the entire codebase.\n",
        " For example, in a web framework like Rails, polymorphism allows different cache stores to be swapped for each other without changing the code that uses them, as long as they implement the same interface.\n",
        " This flexibility is crucial for building robust and maintainable software.\n",
        "\n",
        " 15.What is an abstract class in Python?\n",
        "\n",
        " ANS.An abstract class in Python is a class that cannot be instantiated and is used to create a blueprint for other classes, enforcing a common structure while allowing derived classes to provide concrete implementations for the abstract methods.\n",
        " Python’s abc (Abstract Base Classes) module provides the infrastructure for creating abstract classes, and the ABC (Abstract Base Class) metaclass, along with the @abstractmethod decorator, facilitates the definition of abstract methods.\n",
        " Abstract classes are particularly useful for defining interfaces and ensuring that subclasses implement certain methods, which can be crucial for maintaining a consistent interface across different classes.\n",
        "\n",
        " 16.What are the advantages of OOP?\n",
        "\n",
        " ANS.Object-Oriented Programming (OOP) offers several advantages that make it a preferred choice for software development. One of the key benefits is encapsulation, which allows objects to be self-contained, making troubleshooting and collaborative development easier.\n",
        " This modularity also enables developers to divide complex systems into smaller, more manageable components, making the codebase easier to understand, create, and maintain.\n",
        " Additionally, OOP promotes code reusability through inheritance, allowing developers to reuse existing code and save development time.\n",
        " This not only reduces the amount of new code that needs to be written but also enhances the reliability of the software.\n",
        " Furthermore, OOP supports abstraction, which simplifies complex systems into more understandable models, making it easier to manage and modify the code over time.\n",
        " Lastly, OOP improves data security and reduces the chance of data corruption by encapsulating data and behavior within objects.\n",
        "\n",
        " 17.What is the difference between a class variable and an instance variable?\n",
        "\n",
        " ANS.In Java, a class variable, also known as a static variable, is declared with the static keyword and is shared among all instances of a class.\n",
        " It retains a single shared value for all instances of the class, even if no instance object of the class exists.\n",
        " Changes made to a class variable through one object will reflect in all objects of the class.\n",
        " Conversely, an instance variable is a variable that is not shared between instances of a class; each object has its own copy of the instance variable.\n",
        " Instance variables are created when an object is instantiated and are accessible to all constructors, methods, or blocks in the class.\n",
        " Changes made to an instance variable through one object will not reflect in another object.\n",
        "\n",
        " 18.What is multiple inheritance in Python?\n",
        "\n",
        " ANS.Multiple inheritance in Python is a feature where a class can inherit attributes and methods from more than one parent class, allowing the child class to combine behaviors or attributes from multiple other classes.\n",
        " This feature enables code reuse and the addition of new features to existing code, but it can also introduce complexity and should be used judiciously\n",
        "\n",
        " 19.Explain the purpose of ‘’__str__’ and ‘__repr__’ ‘ methods in Python.\n",
        "\n",
        " ANS.In Python, the __str__ method is used to provide a human-readable string representation of an object, intended for display to users. It is called when the object is printed or passed to the str() function, providing a concise and easy-to-understand output.\n",
        "\n",
        "On the other hand, the __repr__ method is designed to give a more detailed and unambiguous representation of an object, primarily for debugging and logging purposes. It is invoked when the repr() function is used or when the object is inspected in the interactive interpreter. The output of __repr__ should be a valid Python expression that can recreate the object.\n",
        "\n",
        "20.What is the significance of the ‘super()’ function in Python?\n",
        "\n",
        "ANS.The super() function in Python is significant because it allows a subclass to inherit and access methods and properties from its parent class without explicitly naming the parent class. This function returns a temporary object of the superclass that allows access to its methods and properties, facilitating the use of inheritance and making the code more flexible and maintainable.\n",
        "\n",
        "21.What is the significance of the __del__ method in Python?\n",
        "\n",
        "ANS.The del method in Python is a special method that is called when an object is about to be destroyed by the garbage collector, which happens after all references to the object have been destroyed.\n",
        " This method allows an object to perform cleanup actions, such as closing files, releasing locks, or closing network connections, before it is destroyed.\n",
        " However, it is important to note that the del method does not guarantee cleanup in all scenarios, especially when the interpreter exits, as it is not guaranteed that del() methods are called for objects that still exist when the interpreter exits.\n",
        "\n",
        " 22.What is the difference between @staticmethod and @classmethod in Python?\n",
        "\n",
        " ANS.In Python, @staticmethod and @classmethod are both used to define methods within a class, but they serve different purposes. A @staticmethod does not receive any special first argument like self or cls, and it operates independently of the class and instance data. It is often used for utility functions related to the class but does not require access to instance or class data.\n",
        "\n",
        "On the other hand, a @classmethod receives the class itself as the first argument (cls), allowing it to modify class-level attributes or create instances of the class. This makes it useful for factory methods or alternative constructors.\n",
        "\n",
        "The syntax for calling these methods differs as well. @staticmethod methods are called using ClassName.staticmethod_name(), while @classmethod methods are called using ClassName.classmethod_name(), although the internal mechanism for @classmethod is different.\n",
        "\n",
        "24.What is method chaining in Python OOP?\n",
        "\n",
        "ANS.Method chaining in Python Object-Oriented Programming (OOP) is a technique where multiple methods of the same object are called in succession, each method returning the object itself to allow further method calls to be chained together. This pattern enhances code readability and conciseness by eliminating the need for intermediate variables or repeated method calls.\n",
        "\n",
        "25.What is the purpose of the __call__ method in Python?\n",
        "\n",
        "ANS.The call method in Python allows instances of a class to be called as if they were functions. When an instance is called as a function, Python internally translates the operation into instance.call(*args, **kwargs).\n",
        " This method can take any number of arguments and can return values, making the instances of the class behave like functions.\n",
        " This feature can be useful in various scenarios, such as creating callable objects for specific operations or implementing decorators with classes."
      ],
      "metadata": {
        "id": "iO8GyAG2Mkcf"
      }
    },
    {
      "cell_type": "markdown",
      "source": [
        "OOPS (PRACTICAL QUESTIONS)"
      ],
      "metadata": {
        "id": "_WNebjixSqAA"
      }
    },
    {
      "cell_type": "markdown",
      "source": [
        "1. Create a parent class Animal with a method speak() that prints a generic message. Create a child class Dog\n",
        "that overrides the speak() method to print \"Bark!\"."
      ],
      "metadata": {
        "id": "Lw-0XRZQSv08"
      }
    },
    {
      "cell_type": "code",
      "source": [
        "class Animal:\n",
        "    def speak(self):\n",
        "        print(\"The animal makes a sound.\")\n",
        "\n",
        "class Dog(Animal):\n",
        "    def speak(self):\n",
        "        print(\"Bark\")\n"
      ],
      "metadata": {
        "id": "HFiYg0-VWKMT"
      },
      "execution_count": 5,
      "outputs": []
    },
    {
      "cell_type": "code",
      "source": [
        "animal = Animal()\n",
        "dog = Dog()\n",
        "\n",
        "animal.speak()\n",
        "dog.speak()"
      ],
      "metadata": {
        "colab": {
          "base_uri": "https://localhost:8080/"
        },
        "id": "x7LQmE7NWcwY",
        "outputId": "9b160d06-1b96-4d92-85c7-a66e4fbf1a2b"
      },
      "execution_count": 6,
      "outputs": [
        {
          "output_type": "stream",
          "name": "stdout",
          "text": [
            "The animal makes a sound.\n",
            "Bark\n"
          ]
        }
      ]
    },
    {
      "cell_type": "markdown",
      "source": [
        "3.Implement a multi-level inheritance scenario where a class Vehicle has an attribute type. Derive a class Car\n",
        "and further derive a class ElectricCar that adds a battery attribute."
      ],
      "metadata": {
        "id": "w9mJR4zYS8Be"
      }
    },
    {
      "cell_type": "code",
      "source": [
        "# Base class\n",
        "class Vehicle:\n",
        "    def __init__(self, vehicle_type): # Corrected __init__\n",
        "        self.vehicle_type = vehicle_type\n",
        "\n",
        "    def show_type(self):\n",
        "        print(f\"Vehicle type: {self.vehicle_type}\")\n",
        "\n",
        "# Derived class from Vehicle\n",
        "class Car(Vehicle):\n",
        "    def __init__(self, vehicle_type, brand): # Corrected __init__\n",
        "        super().__init__(vehicle_type)\n",
        "        self.brand = brand\n",
        "\n",
        "    def show_brand(self):\n",
        "        print(f\"Car brand: {self.brand}\")\n",
        "\n",
        "# Further derived class from Car\n",
        "class ElectricCar(Car):\n",
        "    def __init__(self, vehicle_type, brand, battery_capacity): # Corrected __init__\n",
        "        super().__init__(vehicle_type, brand)\n",
        "        self.battery_capacity = battery_capacity\n",
        "\n",
        "    def show_battery(self):\n",
        "        print(f\"Battery capacity: {self.battery_capacity} kWh\")"
      ],
      "metadata": {
        "id": "-jZOV1SpZuey"
      },
      "execution_count": 13,
      "outputs": []
    },
    {
      "cell_type": "code",
      "source": [
        "my_ecar = ElectricCar(\"Four-Wheeler\", \"Tesla\", 75)\n",
        "my_ecar.show_type()\n",
        "my_ecar.show_brand()\n",
        "my_ecar.show_battery()"
      ],
      "metadata": {
        "colab": {
          "base_uri": "https://localhost:8080/"
        },
        "id": "fIH7Yii0Zz8c",
        "outputId": "7ee43cb2-fb65-419a-e43c-65c50cac457f"
      },
      "execution_count": 14,
      "outputs": [
        {
          "output_type": "stream",
          "name": "stdout",
          "text": [
            "Vehicle type: Four-Wheeler\n",
            "Car brand: Tesla\n",
            "Battery capacity: 75 kWh\n"
          ]
        }
      ]
    },
    {
      "cell_type": "markdown",
      "source": [
        "5.Write a program to demonstrate encapsulation by creating a class BankAccount with private attributes\n",
        "balance and methods to deposit, withdraw, and check balance."
      ],
      "metadata": {
        "id": "CjSLFYW9TIxE"
      }
    },
    {
      "cell_type": "code",
      "source": [
        "class BankAccount:\n",
        "    def __init__(self, initial_balance=0): # Changed _init_ to __init__\n",
        "        self.__balance = initial_balance  # private attribute\n",
        "\n",
        "    def deposit(self, amount):\n",
        "        if amount > 0:\n",
        "            self.__balance += amount\n",
        "            print(f\"Deposited: {amount}\")\n",
        "        else:\n",
        "            print(\"Deposit amount must be positive.\")\n",
        "\n",
        "    def withdraw(self, amount):\n",
        "        if 0 < amount <= self.__balance:\n",
        "            self.__balance -= amount\n",
        "            print(f\"Withdrew: {amount}\")\n",
        "        else:\n",
        "            print(\"Insufficient funds or invalid amount.\")\n",
        "\n",
        "    def check_balance(self):\n",
        "        print(f\"Current balance: {self.__balance}\")"
      ],
      "metadata": {
        "id": "wHQCF65VcfV9"
      },
      "execution_count": 23,
      "outputs": []
    },
    {
      "cell_type": "code",
      "source": [
        "account = BankAccount(100)\n",
        "account.check_balance()\n",
        "account.deposit(50)\n",
        "account.withdraw(30)\n",
        "account.check_balance()"
      ],
      "metadata": {
        "colab": {
          "base_uri": "https://localhost:8080/"
        },
        "id": "4RMUwMgvcgtv",
        "outputId": "32679466-36b1-4d1b-f564-7282f0bd61e9"
      },
      "execution_count": 24,
      "outputs": [
        {
          "output_type": "stream",
          "name": "stdout",
          "text": [
            "Current balance: 100\n",
            "Deposited: 50\n",
            "Withdrew: 30\n",
            "Current balance: 120\n"
          ]
        }
      ]
    },
    {
      "cell_type": "markdown",
      "source": [
        "6.Demonstrate runtime polymorphism using a method play() in a base class Instrument. Derive classes Guitar\n",
        "and Piano that implement their own version of play()."
      ],
      "metadata": {
        "id": "GAyVXCmgTVwD"
      }
    },
    {
      "cell_type": "code",
      "source": [
        "# Base class\n",
        "class Instrument:\n",
        "    def play(self):\n",
        "        print(\"Playing an instrument...\")\n",
        "\n",
        "# Derived class: Guitar\n",
        "class Guitar(Instrument):\n",
        "    def play(self):\n",
        "        print(\"Strumming the guitar!\")\n",
        "\n",
        "# Derived class: Piano\n",
        "class Piano(Instrument):\n",
        "    def play(self):\n",
        "        print(\"Playing the piano!\")\n",
        "\n",
        "# Function demonstrating runtime polymorphism\n",
        "def perform(instrument: Instrument):\n",
        "    instrument.play()\n"
      ],
      "metadata": {
        "id": "tnHxWuTsTc05"
      },
      "execution_count": 25,
      "outputs": []
    },
    {
      "cell_type": "code",
      "source": [
        "inst1 = Guitar()\n",
        "inst2 = Piano()\n",
        "\n",
        "perform(inst1)\n",
        "perform(inst2)"
      ],
      "metadata": {
        "colab": {
          "base_uri": "https://localhost:8080/"
        },
        "id": "jhIBfaKrdgK8",
        "outputId": "942625f9-666b-4cb9-ba99-1a12a638fdc5"
      },
      "execution_count": 26,
      "outputs": [
        {
          "output_type": "stream",
          "name": "stdout",
          "text": [
            "Strumming the guitar!\n",
            "Playing the piano!\n"
          ]
        }
      ]
    },
    {
      "cell_type": "markdown",
      "source": [
        "7.Create a class MathOperations with a class method add_numbers() to add two numbers and a static\n",
        "method subtract_numbers() to subtract two numbers."
      ],
      "metadata": {
        "id": "HvBkn9iPTdJf"
      }
    },
    {
      "cell_type": "code",
      "source": [
        "class MathOperations:\n",
        "    @classmethod\n",
        "    def AddNumbers(cls, a, b):\n",
        "        return a + b\n",
        "\n",
        "    @staticmethod\n",
        "    def SubtractNumbers(a, b):\n",
        "        return a - b\n"
      ],
      "metadata": {
        "id": "Zl_wcfX7TjM-"
      },
      "execution_count": 27,
      "outputs": []
    },
    {
      "cell_type": "code",
      "source": [
        "sum_result = MathOperations.AddNumbers(10, 5)\n",
        "sub_result = MathOperations.SubtractNumbers(10, 5)\n",
        "\n",
        "print(\"Sum:\", sum_result)\n",
        "print(\"Difference:\", sub_result)"
      ],
      "metadata": {
        "colab": {
          "base_uri": "https://localhost:8080/"
        },
        "id": "L7SuLTEld_LX",
        "outputId": "96889d4c-6639-4349-f364-8c7dfea6a51c"
      },
      "execution_count": 28,
      "outputs": [
        {
          "output_type": "stream",
          "name": "stdout",
          "text": [
            "Sum: 15\n",
            "Difference: 5\n"
          ]
        }
      ]
    },
    {
      "cell_type": "markdown",
      "source": [
        "8.Implement a class Person with a class method to count the total number of persons created."
      ],
      "metadata": {
        "id": "T8lKYgm5TjxK"
      }
    },
    {
      "cell_type": "code",
      "source": [
        "class Person:\n",
        "    count = 0  # Class variable to store the number of persons\n",
        "\n",
        "    def __init__(self, name): # Changed _init_ to __init__\n",
        "        self.name = name\n",
        "        Person.count += 1  # Increment count whenever a new Person is created\n",
        "\n",
        "    @classmethod\n",
        "    def total_persons(cls):\n",
        "        return cls.count"
      ],
      "metadata": {
        "id": "ihRmeQDLel1o"
      },
      "execution_count": 33,
      "outputs": []
    },
    {
      "cell_type": "code",
      "source": [
        "p1 = Person(\"Alice\")\n",
        "p2 = Person(\"Bob\")\n",
        "p3 = Person(\"Charlie\")\n",
        "\n",
        "print(\"Total persons created:\", Person.total_persons())"
      ],
      "metadata": {
        "colab": {
          "base_uri": "https://localhost:8080/"
        },
        "id": "e42Y0kbzeXcY",
        "outputId": "964345b7-e0f9-40e5-c14e-8af472176884"
      },
      "execution_count": 34,
      "outputs": [
        {
          "output_type": "stream",
          "name": "stdout",
          "text": [
            "Total persons created: 3\n"
          ]
        }
      ]
    },
    {
      "cell_type": "markdown",
      "source": [
        "9.Write a class Fraction with attributes numerator and denominator. Override the str method to display the\n",
        "fraction as \"numerator/denominator\"."
      ],
      "metadata": {
        "id": "Gdjnh1aVTqqT"
      }
    },
    {
      "cell_type": "code",
      "source": [
        "class Fraction:\n",
        "    def __init__(self, numerator, denominator): # Corrected _init_ to __init__\n",
        "        self.numerator = numerator\n",
        "        self.denominator = denominator\n",
        "\n",
        "    def __str__(self): # Corrected _str_ to __str__\n",
        "        return f\"{self.numerator}/{self.denominator}\""
      ],
      "metadata": {
        "id": "I15O--9ZfcD8"
      },
      "execution_count": 38,
      "outputs": []
    },
    {
      "cell_type": "code",
      "source": [
        "f1 = Fraction(3, 4)\n",
        "f2 = Fraction(7, 2)\n",
        "from fractions import Fraction\n",
        "f1 = Fraction(3, 4)\n",
        "f2 = Fraction(7, 2)\n",
        "\n",
        "print(f1)\n",
        "print(f2)"
      ],
      "metadata": {
        "colab": {
          "base_uri": "https://localhost:8080/"
        },
        "id": "3ETRQn_efNe1",
        "outputId": "a9402a70-e198-4bdd-94e4-7aa1522760f4"
      },
      "execution_count": 39,
      "outputs": [
        {
          "output_type": "stream",
          "name": "stdout",
          "text": [
            "3/4\n",
            "7/2\n"
          ]
        }
      ]
    },
    {
      "cell_type": "markdown",
      "source": [
        "10.Demonstrate operator overloading by creating a class Vector and overriding the add method to add two\n",
        "vectors."
      ],
      "metadata": {
        "id": "vNHA8UoOT31i"
      }
    },
    {
      "cell_type": "code",
      "source": [
        "class Vector:\n",
        "    def __init__(self, x, y): # Changed _init_ to __init__\n",
        "        self.x = x\n",
        "        self.y = y\n",
        "\n",
        "    # Overloading the + operator\n",
        "    def __add__(self, other): # Changed _add_ to __add__\n",
        "        return Vector(self.x + other.x, self.y + other.y)\n",
        "\n",
        "    def __str__(self): # Changed _str_ to __str__\n",
        "        return f\"Vector({self.x}, {self.y})\""
      ],
      "metadata": {
        "id": "jM8TaOngf__4"
      },
      "execution_count": 42,
      "outputs": []
    },
    {
      "cell_type": "code",
      "source": [
        "v1 = Vector(2, 3)\n",
        "v2 = Vector(4, 5)\n",
        "v3 = v1 + v2  # This will call v1._add_(v2)\n",
        "\n",
        "print(v3)"
      ],
      "metadata": {
        "colab": {
          "base_uri": "https://localhost:8080/"
        },
        "id": "sUuFqWJDfzBT",
        "outputId": "8ac11dc8-c9b1-4097-c0ce-87eca6f0e1cf"
      },
      "execution_count": 43,
      "outputs": [
        {
          "output_type": "stream",
          "name": "stdout",
          "text": [
            "Vector(6, 8)\n"
          ]
        }
      ]
    },
    {
      "cell_type": "markdown",
      "source": [
        "11.Create a class Person with attributes name and age. Add a method greet() that prints \"Hello, my name is\n",
        "{name} and I am {age} years old.\"\n",
        "\n",
        "\n"
      ],
      "metadata": {
        "id": "lx6hncZCT-kg"
      }
    },
    {
      "cell_type": "code",
      "source": [
        "class Person:\n",
        "    def __init__(self, name, age): # Corrected _init_ to __init__\n",
        "        self.name = name\n",
        "        self.age = age\n",
        "\n",
        "    def Greet(self):\n",
        "        print(f\"Hello, my name is {self.name} and I am {self.age} years old.\")"
      ],
      "metadata": {
        "id": "X4tq5fqTgjUD"
      },
      "execution_count": 46,
      "outputs": []
    },
    {
      "cell_type": "code",
      "source": [
        "p1 = Person(\"Alice\", 25)\n",
        "p1.Greet()"
      ],
      "metadata": {
        "colab": {
          "base_uri": "https://localhost:8080/"
        },
        "id": "lqtGrPOggafq",
        "outputId": "409fd437-3354-4eb0-ef09-668b60d4652d"
      },
      "execution_count": 47,
      "outputs": [
        {
          "output_type": "stream",
          "name": "stdout",
          "text": [
            "Hello, my name is Alice and I am 25 years old.\n"
          ]
        }
      ]
    },
    {
      "cell_type": "markdown",
      "source": [
        "12.Implement a class Student with attributes name and grades. Create a method average_grade() to compute\n",
        "the average of the grades."
      ],
      "metadata": {
        "id": "h4gnvQ8dUDjh"
      }
    },
    {
      "cell_type": "code",
      "source": [
        "class Student:\n",
        "    def __init__(self, name, grades): # Corrected _init_ to __init__\n",
        "        self.name = name\n",
        "        self.grades = grades  # List of grades\n",
        "\n",
        "    def AverageGrade(self):\n",
        "        if self.grades:\n",
        "            return sum(self.grades) / len(self.grades)\n",
        "        else:\n",
        "            return 0"
      ],
      "metadata": {
        "id": "rRJtYxgKhAUf"
      },
      "execution_count": 50,
      "outputs": []
    },
    {
      "cell_type": "code",
      "source": [
        "s1 = Student(\"John\", [85, 90, 78, 92])\n",
        "print(f\"{s1.name}'s average grade: {s1.AverageGrade():.2f}\")"
      ],
      "metadata": {
        "colab": {
          "base_uri": "https://localhost:8080/"
        },
        "id": "8ihZenYSg1zl",
        "outputId": "f19b85c2-07e1-48c7-bb07-f1bdedcadc29"
      },
      "execution_count": 51,
      "outputs": [
        {
          "output_type": "stream",
          "name": "stdout",
          "text": [
            "John's average grade: 86.25\n"
          ]
        }
      ]
    },
    {
      "cell_type": "markdown",
      "source": [
        "13.Create a class Rectangle with methods set_dimensions() to set the dimensions and area() to calculate the\n",
        "area."
      ],
      "metadata": {
        "id": "6dlwHkudUHJt"
      }
    },
    {
      "cell_type": "code",
      "source": [
        "class Rectangle:\n",
        "    def _init_(self):\n",
        "        self.width = 0\n",
        "        self.height = 0\n",
        "\n",
        "    def setDimensions(self, width, height):\n",
        "        self.width = width\n",
        "        self.height = height\n",
        "\n",
        "    def area(self):\n",
        "        return self.width * self.height"
      ],
      "metadata": {
        "id": "luOv0nKrUMcg"
      },
      "execution_count": 53,
      "outputs": []
    },
    {
      "cell_type": "code",
      "source": [
        "rect = Rectangle()\n",
        "rect.setDimensions(5, 10)\n",
        "print(\"Area of rectangle:\", rect.area())"
      ],
      "metadata": {
        "colab": {
          "base_uri": "https://localhost:8080/"
        },
        "id": "j_7vAeEJhUZl",
        "outputId": "a474f068-7c51-4e6c-a49d-53405f97346c"
      },
      "execution_count": 54,
      "outputs": [
        {
          "output_type": "stream",
          "name": "stdout",
          "text": [
            "Area of rectangle: 50\n"
          ]
        }
      ]
    },
    {
      "cell_type": "markdown",
      "source": [
        "15.Create a class Product with attributes name, price, and quantity. Implement a method total_price() that\n",
        "calculates the total price of the product."
      ],
      "metadata": {
        "id": "yg-hgqaTUSHA"
      }
    },
    {
      "cell_type": "code",
      "source": [
        "class Product:\n",
        "    def __init__(self, name, price, quantity): # Changed _init_ to __init__\n",
        "        self.name = name\n",
        "        self.price = price\n",
        "        self.quantity = quantity\n",
        "\n",
        "    def TotalPrice(self):\n",
        "        return self.price * self.quantity\n"
      ],
      "metadata": {
        "id": "xXZSSCNijjTO"
      },
      "execution_count": 62,
      "outputs": []
    },
    {
      "cell_type": "code",
      "source": [
        "p1 = Product(\"Laptop\", 1000, 3)\n",
        "print(f\"Total price for {p1.name}s: ${p1.TotalPrice()}\")"
      ],
      "metadata": {
        "colab": {
          "base_uri": "https://localhost:8080/"
        },
        "id": "LauAQlZwjZ8Y",
        "outputId": "821fb2ad-777a-4f6f-9f00-4249c91ccb53"
      },
      "execution_count": 63,
      "outputs": [
        {
          "output_type": "stream",
          "name": "stdout",
          "text": [
            "Total price for Laptops: $3000\n"
          ]
        }
      ]
    },
    {
      "cell_type": "markdown",
      "source": [
        "16.Create a class Animal with an abstract method sound(). Create two derived classes Cow and Sheep that\n",
        "implement the sound() method."
      ],
      "metadata": {
        "id": "22pA_iGJUWoU"
      }
    },
    {
      "cell_type": "code",
      "source": [
        "from abc import ABC, abstractmethod # Import ABC and abstractmethod from the abc module\n",
        "\n",
        "# Abstract base class\n",
        "class Animal(ABC):\n",
        "    @abstractmethod\n",
        "    def Sound(self):\n",
        "        pass\n",
        "\n",
        "# Derived class: Cow\n",
        "class Cow(Animal):\n",
        "    def Sound(self):\n",
        "        print(\"Cow says Moo!\")\n",
        "\n",
        "# Derived class: Ship\n",
        "class Ship(Animal):\n",
        "    def Sound(self):\n",
        "        print(\"Ship says Honk!\")"
      ],
      "metadata": {
        "id": "6X3B2RX8j9vI"
      },
      "execution_count": 65,
      "outputs": []
    },
    {
      "cell_type": "code",
      "source": [
        "cow = Cow()\n",
        "ship = Ship()\n",
        "cow = Cow()\n",
        "ship = Ship()\n",
        "\n",
        "cow.Sound()\n",
        "ship.Sound()"
      ],
      "metadata": {
        "colab": {
          "base_uri": "https://localhost:8080/"
        },
        "id": "lZ9ZEEY6j_Id",
        "outputId": "d958cb28-38b5-495d-f73b-7614d7240b86"
      },
      "execution_count": 69,
      "outputs": [
        {
          "output_type": "stream",
          "name": "stdout",
          "text": [
            "Cow says Moo!\n",
            "Ship says Honk!\n"
          ]
        }
      ]
    },
    {
      "cell_type": "markdown",
      "source": [
        "17.Create a class Book with attributes title, author, and year_published. Add a method get_book_info() that\n",
        "returns a formatted string with the book's details.\n",
        "\n",
        "\n"
      ],
      "metadata": {
        "id": "dZshKBxtUbWZ"
      }
    },
    {
      "cell_type": "code",
      "source": [
        "class Book:\n",
        "    def __init__(self, title, author, year_published): # Corrected _init_ to __init__\n",
        "        self.title = title\n",
        "        self.author = author\n",
        "        self.year_published = year_published\n",
        "\n",
        "    def GetBookInfo(self):\n",
        "        return f\"'{self.title}' by {self.author}, published in {self.year_published}\""
      ],
      "metadata": {
        "id": "kgDbiY-XkxXf"
      },
      "execution_count": 72,
      "outputs": []
    },
    {
      "cell_type": "code",
      "source": [
        "book1 = Book(\"1984\", \"George Orwell\", 1949)\n",
        "print(book1.GetBookInfo())"
      ],
      "metadata": {
        "colab": {
          "base_uri": "https://localhost:8080/"
        },
        "id": "rJwKk29mkl3S",
        "outputId": "bd279a6c-3d6c-4270-e134-0ef5f0e68ff3"
      },
      "execution_count": 73,
      "outputs": [
        {
          "output_type": "stream",
          "name": "stdout",
          "text": [
            "'1984' by George Orwell, published in 1949\n"
          ]
        }
      ]
    },
    {
      "cell_type": "markdown",
      "source": [
        "18.Create a class House with attributes address and price. Create a derived class Mansion that adds an\n",
        "attribute number_of_rooms."
      ],
      "metadata": {
        "id": "CxznCYSXUgp-"
      }
    },
    {
      "cell_type": "code",
      "source": [
        "# Base class\n",
        "class House:\n",
        "    def __init__(self, address, price): # Corrected _init_ to __init__\n",
        "        self.address = address\n",
        "        self.price = price\n",
        "\n",
        "# Derived class\n",
        "class Mansion(House):\n",
        "    def __init__(self, address, price, number_of_rooms): # Corrected _init_ to __init__\n",
        "        super().__init__(address, price)\n",
        "        self.number_of_rooms = number_of_rooms\n"
      ],
      "metadata": {
        "id": "hbt8EQLplDrO"
      },
      "execution_count": 76,
      "outputs": []
    },
    {
      "cell_type": "code",
      "source": [
        "mansion = Mansion(\"123 Luxury Lane\", 2500000, 10)\n",
        "\n",
        "print(f\"Address: {mansion.address}\")\n",
        "print(f\"Price: ${mansion.price}\")\n",
        "print(f\"Number of rooms: {mansion.number_of_rooms}\")"
      ],
      "metadata": {
        "colab": {
          "base_uri": "https://localhost:8080/"
        },
        "id": "oyDUubZOk8Gd",
        "outputId": "974de13d-0abb-47dc-86d7-21d4a09ddb2c"
      },
      "execution_count": 77,
      "outputs": [
        {
          "output_type": "stream",
          "name": "stdout",
          "text": [
            "Address: 123 Luxury Lane\n",
            "Price: $2500000\n",
            "Number of rooms: 10\n"
          ]
        }
      ]
    }
  ]
}